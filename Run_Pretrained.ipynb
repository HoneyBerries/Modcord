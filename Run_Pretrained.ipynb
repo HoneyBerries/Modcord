{
 "cells": [
  {
   "cell_type": "code",
   "execution_count": null,
   "id": "947ae66719359057",
   "metadata": {},
   "outputs": [],
   "source": [
    "import torch\n",
    "\n",
    "from transformers import AutoTokenizer, AutoModelForCausalLM\n",
    "from transformers.utils.quantization_config import BitsAndBytesConfig"
   ]
  },
  {
   "cell_type": "code",
   "execution_count": null,
   "id": "43a2aa94ba6ea69c",
   "metadata": {},
   "outputs": [],
   "source": [
    "model_name = \"meta-llama/Llama-3.2-3B-Instruct\"\n",
    "\n",
    "bnb_config = BitsAndBytesConfig(\n",
    "    load_in_4bit=True,\n",
    "    bnb_4bit_quant_type=\"nf4\",\n",
    "    bnb_4bit_compute_dtype=torch.bfloat16\n",
    ")\n",
    "\n",
    "model = AutoModelForCausalLM.from_pretrained(\n",
    "    model_name,\n",
    "    quantization_config=bnb_config,\n",
    "    device_map=\"auto\",\n",
    "    trust_remote_code=True\n",
    ").eval()\n",
    "\n",
    "tokenizer = AutoTokenizer.from_pretrained(model_name, trust_remote_code=True)\n",
    "\n",
    "SYSTEM_PROMPT = \"\"\"Respond in the following format:\n",
    "<think>\n",
    "You should reason between these tags.\n",
    "</think>\n",
    "\n",
    "Response goes here...\n",
    "\n",
    "Always use <think> </think> tags even if they are not necessary.\n",
    "\"\"\"\n"
   ]
  },
  {
   "cell_type": "code",
   "execution_count": null,
   "id": "9322dd807308ac22",
   "metadata": {},
   "outputs": [],
   "source": [
    "def generate(model, tokenizer, prompt):\n",
    "    input_ids = tokenizer(prompt, return_tensors=\"pt\").input_ids.to(model.device)\n",
    "    with torch.no_grad():\n",
    "        output = model.generate(input_ids, max_new_tokens=12288)\n",
    "    return tokenizer.decode(output[0], skip_special_tokens=True)\n"
   ]
  },
  {
   "cell_type": "code",
   "execution_count": null,
   "id": "915c08008e6560b8",
   "metadata": {},
   "outputs": [],
   "source": [
    "def chat_with_ai(model, tokenizer):\n",
    "    # Initialize conversation history\n",
    "    conversation = [\n",
    "        {\"role\": \"system\", \"content\": SYSTEM_PROMPT}\n",
    "    ]\n",
    "\n",
    "    print(\"Chat initialized. Type 'exit' to end the conversation.\")\n",
    "\n",
    "    while True:\n",
    "        # Get user input\n",
    "        user_message = input(\"You: \")\n",
    "\n",
    "        if user_message.lower() == 'exit':\n",
    "            break\n",
    "\n",
    "        # Add user message to conversation history\n",
    "        conversation.append({\"role\": \"user\", \"content\": user_message})\n",
    "\n",
    "        # Apply chat template with proper tokenization\n",
    "        inputs = tokenizer.apply_chat_template(\n",
    "            conversation,\n",
    "            tokenize=True,\n",
    "            add_generation_prompt=True,\n",
    "            return_tensors=\"pt\"\n",
    "        )\n",
    "\n",
    "        # Move inputs to device and create attention mask\n",
    "        input_ids = inputs.to(model.device)\n",
    "        attention_mask = torch.ones_like(input_ids).to(model.device)\n",
    "        prompt_length = input_ids.shape[1]\n",
    "\n",
    "        # Generate response\n",
    "        output = model.generate(\n",
    "            input_ids=input_ids,\n",
    "            attention_mask=attention_mask,\n",
    "            max_new_tokens=2048,  # Reduced from 12288 for more reasonable responses\n",
    "            temperature=0.7,\n",
    "            top_p=0.7,\n",
    "            repetition_penalty=1.2,\n",
    "            do_sample=True,\n",
    "            pad_token_id=tokenizer.pad_token_id,\n",
    "            eos_token_id=tokenizer.eos_token_id,\n",
    "        )\n",
    "\n",
    "        # Extract just the new tokens\n",
    "        new_tokens = output[0][prompt_length:]\n",
    "        assistant_response = tokenizer.decode(new_tokens, skip_special_tokens=True)\n",
    "\n",
    "        # Print the response\n",
    "        print(f\"AI: {assistant_response}\")\n",
    "\n",
    "        # Add assistant response to conversation history\n",
    "        conversation.append({\"role\": \"assistant\", \"content\": assistant_response})"
   ]
  },
  {
   "cell_type": "code",
   "execution_count": null,
   "id": "c4c21ff4f595c411",
   "metadata": {},
   "outputs": [],
   "source": [
    "chat_with_ai(model, tokenizer)"
   ]
  }
 ],
 "metadata": {
  "kernelspec": {
   "display_name": "Python 3",
   "language": "python",
   "name": "python3"
  },
  "language_info": {
   "codemirror_mode": {
    "name": "ipython",
    "version": 2
   },
   "file_extension": ".py",
   "mimetype": "text/x-python",
   "name": "python",
   "nbconvert_exporter": "python",
   "pygments_lexer": "ipython2",
   "version": "2.7.6"
  }
 },
 "nbformat": 4,
 "nbformat_minor": 5
}
